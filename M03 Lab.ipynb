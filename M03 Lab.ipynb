{
 "cells": [
  {
   "cell_type": "code",
   "execution_count": 17,
   "id": "b9f6c348",
   "metadata": {},
   "outputs": [
    {
     "name": "stdout",
     "output_type": "stream",
     "text": [
      "Enter vehicle type: Truck\n",
      "Enter vehicle year: 2024\n",
      "Enter vehicle make: Tesla\n",
      "Enter vehicle model: Cyber\n",
      "Enter number of doors: 4\n",
      "Enter type of roof: closed\n",
      "Vehicle type: Truck \n",
      "Year: 2024 \n",
      "Make: Tesla \n",
      "Model: Cyber \n",
      "Number of Doors: 4 \n",
      "Type of roof: closed\n"
     ]
    }
   ],
   "source": [
    "class Vehicle:\n",
    "    def __init__(self, vehicle_type):\n",
    "        self.vehicle_type = vehicle_type\n",
    "\n",
    "class Automobile(Vehicle):\n",
    "    def __init__(self, vehicle_type, year, make, model, nod, roof):\n",
    "        super().__init__(vehicle_type)\n",
    "        self.year=year\n",
    "        self.make=make\n",
    "        self.model=model\n",
    "        self.nod=nod\n",
    "        self.roof=roof\n",
    "        \n",
    "vehicle_type = input(\"Enter vehicle type: \")\n",
    "year=input(\"Enter vehicle year: \") \n",
    "make=input(\"Enter vehicle make: \")\n",
    "model=input(\"Enter vehicle model: \")\n",
    "nod=input(\"Enter number of doors: \")\n",
    "roof=input(\"Enter type of roof: \")\n",
    "\n",
    "details = Automobile(vehicle_type, year, make, model, nod, roof)\n",
    "\n",
    "print(\"\\nVehicle type:\", details.vehicle_type, \"\\nYear:\", details.year, \"\\nMake:\", details.make, \"\\nModel:\", details.model, \"\\nNumber of Doors:\", details.nod, \"\\nType of roof:\", details.roof)"
   ]
  }
 ],
 "metadata": {
  "kernelspec": {
   "display_name": "Python 3 (ipykernel)",
   "language": "python",
   "name": "python3"
  },
  "language_info": {
   "codemirror_mode": {
    "name": "ipython",
    "version": 3
   },
   "file_extension": ".py",
   "mimetype": "text/x-python",
   "name": "python",
   "nbconvert_exporter": "python",
   "pygments_lexer": "ipython3",
   "version": "3.11.5"
  }
 },
 "nbformat": 4,
 "nbformat_minor": 5
}
